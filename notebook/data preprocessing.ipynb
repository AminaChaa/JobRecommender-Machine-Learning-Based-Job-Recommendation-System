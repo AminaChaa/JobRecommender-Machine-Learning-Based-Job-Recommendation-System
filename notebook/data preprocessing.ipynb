{
  "cells": [
    {
      "cell_type": "code",
      "execution_count": 107,
      "metadata": {
        "id": "oDrKc-qtnvc7"
      },
      "outputs": [],
      "source": [
        "import pandas as pd  # Import the pandas library for data manipulation\n",
        "import numpy as np  # Import numpy for numerical operations\n",
        "from sklearn.preprocessing import StandardScaler  # Import StandardScaler for feature scaling\n",
        "from sklearn.decomposition import PCA  # Import PCA for dimensionality reduction\n",
        "from sklearn.model_selection import train_test_split  # Import train_test_split for splitting data into training and test sets"
      ]
    },
    {
      "cell_type": "code",
      "execution_count": 170,
      "metadata": {
        "id": "rdiLJ7CsoJTn"
      },
      "outputs": [],
      "source": [
        "# Load the dataset from a CSV file into a DataFrame\n",
        "df = pd.read_csv('data2.csv')"
      ]
    },
    {
      "cell_type": "code",
      "execution_count": 171,
      "metadata": {
        "colab": {
          "base_uri": "https://localhost:8080/"
        },
        "id": "2jKl4Hdx9M8j",
        "outputId": "dca5a32b-256f-48d5-b6b4-8dcfafe3ce48"
      },
      "outputs": [
        {
          "name": "stdout",
          "output_type": "stream",
          "text": [
            "['Medium-Large (501-1000)' 'Giant (10000+)' 'Large (1001-5000)'\n",
            " 'Small (51-200)' 'Medium (201-500)' 'Very Large (5001-10000)'\n",
            " 'Very Small (1-50)' 'Unknown' nan]\n"
          ]
        }
      ],
      "source": [
        "# Get unique company sizes from the 'Company Size' column and print them\n",
        "unique_company_sizes = df['Company Size'].unique()\n",
        "print(unique_company_sizes)"
      ]
    },
    {
      "cell_type": "code",
      "execution_count": 172,
      "metadata": {
        "colab": {
          "base_uri": "https://localhost:8080/"
        },
        "id": "GL0k0hG1E9hk",
        "outputId": "1093d904-bad4-4fec-cc48-f4edaabe2ed7"
      },
      "outputs": [
        {
          "data": {
            "text/plain": [
              "2177"
            ]
          },
          "execution_count": 172,
          "metadata": {},
          "output_type": "execute_result"
        }
      ],
      "source": [
        "# Display the number of rows in the DataFrame\n",
        "len(df)"
      ]
    },
    {
      "cell_type": "code",
      "execution_count": 173,
      "metadata": {
        "colab": {
          "base_uri": "https://localhost:8080/",
          "height": 486
        },
        "id": "PcZ3FOvnoR5-",
        "outputId": "69af7ef8-52d2-48b6-e9ce-cb6cc6343938"
      },
      "outputs": [
        {
          "data": {
            "application/vnd.google.colaboratory.intrinsic+json": {
              "summary": "{\n  \"name\": \"df\",\n  \"rows\": 2177,\n  \"fields\": [\n    {\n      \"column\": \"Job Title\",\n      \"properties\": {\n        \"dtype\": \"category\",\n        \"num_unique_values\": 661,\n        \"samples\": [\n          \"Statistician/Data Scientist - TS/SCI Required\",\n          \"Scientist, Immuno-Oncology\",\n          \"ATL - Data & Analytics (DA)\"\n        ],\n        \"semantic_type\": \"\",\n        \"description\": \"\"\n      }\n    },\n    {\n      \"column\": \"Job Description\",\n      \"properties\": {\n        \"dtype\": \"string\",\n        \"num_unique_values\": 1423,\n        \"samples\": [\n          \"About the Team\\nAt Stitch Fix, our data science team combines machine learning with expert human judgment to generate innovative recommendations and insights that transform the way our clients discover what they love. We believe in a curiosity-driven data science culture where members are empowered to deliver impact through end-to-end model development. The diversity of the problems that we work on and the data-rich environment of our business make it possible, even essential, to bring the tools of multiple disciplines to bear on our hardest problems. As a large company, our growing business is looking for data scientists to join us in revolutionizing retail.\\nAbout the Role\",\n          \"Position Description:\\nThe Analytics Research and Development team within the organization is looking for a highly skilled quantitative analyst / data scientist to assist in all levels of model development, evaluation, and deployment. The analyst will have significant autonomy in conducting research and selecting modeling methodologies. You will have the opportunity to work with some of the brightest global subject matter experts that are transforming the automobile industry. Responsibilities include, but are not limited to: - Work with Optimization Solutions group, Operations and Finance teams to support optimal pricing reflecting the risk/return tradeoff. - Employ statistical/econometric procedures to produce quarterly forecasts of vehicle loan characteristics to be included in pricing model. - Develop tracking methodologies and reports to monitor model accuracy and evaluate performance. - Prepare analysis to back-test and compare competing modeling methodologies. - Responsible for maintenance and enhancements of all developed models. - Utilize structural models to simulate business performance over different competitive and economic scenarios. - Support deployment of upgraded analytical tools to dynamically price vehicle financing. - Utilize optimization software to evaluate pricing methodologies. - Use data mining techniques to find opportunities within the pricing area. - Develop/evaluate marketing strategies to take advantage of pricing opportunities. - Utilize deep learning technology to extract vehicle features. - Work with various data sources and platforms (PC, Mainframe, Unix/Linux, Teradata, Hadoop) to gather data. - Execute both descriptive and inferential ad hoc requests in a timely manner\\n\\nSkills Required:\\nDemonstrated skills in conducting complex statistical analysis in a business or academic environment - Demonstrated skills in large scale data manipulation and mining/pattern recognition - Strong oral and written communication skills. - Strong programming skills in Python, C / C++/C# , Matlab, R, Pyspark\",\n          \"Do you want to build a model that changes customer experience? Do you actually want to see your ideas, your pipelines, your architecture, your experiment really affect the business? If so, Chewy Search & Recommendations team is hiring!\\nWe use the best machine learning techniques to simplify product discovery for animal lovers looking for their pet needs on Chewy.com. Our outstanding multi-disciplinary team of data scientists, data engineers, software/front-end engineers, and product managers work together to power personalized recommendations and search for pet parents.\\nOur mission is to make Chewy a trusted partner who meets pet-parents\\u2019 needs in an intuitively personalized and friction-free way. The team has single threaded ownership of the space allowing us to decide impactful products that we can experiment with, measure with metrics, and deliver and improve value to our customers.\"\n        ],\n        \"semantic_type\": \"\",\n        \"description\": \"\"\n      }\n    },\n    {\n      \"column\": \"Rating\",\n      \"properties\": {\n        \"dtype\": \"category\",\n        \"num_unique_values\": 57,\n        \"samples\": [\n          \"3.8\",\n          \"3.3\",\n          \"Huntsville, AL\"\n        ],\n        \"semantic_type\": \"\",\n        \"description\": \"\"\n      }\n    },\n    {\n      \"column\": \"Company Name\",\n      \"properties\": {\n        \"dtype\": \"category\",\n        \"num_unique_values\": 1038,\n        \"samples\": [\n          \"Palermo's Pizza\\n3.3\",\n          \"Planned Systems International\\n4.3\",\n          \"Parsons\\n3.9\"\n        ],\n        \"semantic_type\": \"\",\n        \"description\": \"\"\n      }\n    },\n    {\n      \"column\": \"Location\",\n      \"properties\": {\n        \"dtype\": \"category\",\n        \"num_unique_values\": 389,\n        \"samples\": [\n          \"Fort Gordon, GA\",\n          \"Saint Louis, MO\",\n          \"Portsmouth, VA\"\n        ],\n        \"semantic_type\": \"\",\n        \"description\": \"\"\n      }\n    },\n    {\n      \"column\": \"Founded\",\n      \"properties\": {\n        \"dtype\": \"category\",\n        \"num_unique_values\": 181,\n        \"samples\": [\n          \"1911\",\n          \"Insurance Carriers\",\n          \"1907\"\n        ],\n        \"semantic_type\": \"\",\n        \"description\": \"\"\n      }\n    },\n    {\n      \"column\": \"Type of ownership\",\n      \"properties\": {\n        \"dtype\": \"category\",\n        \"num_unique_values\": 23,\n        \"samples\": [\n          \"Business Services\",\n          \"Contract\",\n          \"Company - Private\"\n        ],\n        \"semantic_type\": \"\",\n        \"description\": \"\"\n      }\n    },\n    {\n      \"column\": \"Industry\",\n      \"properties\": {\n        \"dtype\": \"category\",\n        \"num_unique_values\": 129,\n        \"samples\": [\n          \"Utilities\",\n          \"Brokerage Services\",\n          \"Telecommunications Services\"\n        ],\n        \"semantic_type\": \"\",\n        \"description\": \"\"\n      }\n    },\n    {\n      \"column\": \"Sector\",\n      \"properties\": {\n        \"dtype\": \"category\",\n        \"num_unique_values\": 45,\n        \"samples\": [\n          \"Restaurants & Food Service\",\n          \"Very Small (1-50)\",\n          \"Construction, Repair & Maintenance\"\n        ],\n        \"semantic_type\": \"\",\n        \"description\": \"\"\n      }\n    },\n    {\n      \"column\": \"Median Salary\",\n      \"properties\": {\n        \"dtype\": \"number\",\n        \"std\": 336843846.38821644,\n        \"min\": 540.0,\n        \"max\": 3500000000.0,\n        \"num_unique_values\": 349,\n        \"samples\": [\n          90500.0,\n          177500.0,\n          193500.0\n        ],\n        \"semantic_type\": \"\",\n        \"description\": \"\"\n      }\n    },\n    {\n      \"column\": \"Company Size\",\n      \"properties\": {\n        \"dtype\": \"category\",\n        \"num_unique_values\": 8,\n        \"samples\": [\n          \"Giant (10000+)\",\n          \"Very Large (5001-10000)\",\n          \"Medium-Large (501-1000)\"\n        ],\n        \"semantic_type\": \"\",\n        \"description\": \"\"\n      }\n    },\n    {\n      \"column\": \"Median Revenue\",\n      \"properties\": {\n        \"dtype\": \"number\",\n        \"std\": 2082501387.1089933,\n        \"min\": 1000000.0,\n        \"max\": 7500000000.0,\n        \"num_unique_values\": 14,\n        \"samples\": [\n          1000000.0,\n          62500000.0,\n          75000000.0\n        ],\n        \"semantic_type\": \"\",\n        \"description\": \"\"\n      }\n    }\n  ]\n}",
              "type": "dataframe",
              "variable_name": "df"
            },
            "text/html": [
              "\n",
              "  <div id=\"df-5bc6b2f2-21c7-4d94-b60d-bb0da67707c1\" class=\"colab-df-container\">\n",
              "    <div>\n",
              "<style scoped>\n",
              "    .dataframe tbody tr th:only-of-type {\n",
              "        vertical-align: middle;\n",
              "    }\n",
              "\n",
              "    .dataframe tbody tr th {\n",
              "        vertical-align: top;\n",
              "    }\n",
              "\n",
              "    .dataframe thead th {\n",
              "        text-align: right;\n",
              "    }\n",
              "</style>\n",
              "<table border=\"1\" class=\"dataframe\">\n",
              "  <thead>\n",
              "    <tr style=\"text-align: right;\">\n",
              "      <th></th>\n",
              "      <th>Job Title</th>\n",
              "      <th>Job Description</th>\n",
              "      <th>Rating</th>\n",
              "      <th>Company Name</th>\n",
              "      <th>Location</th>\n",
              "      <th>Founded</th>\n",
              "      <th>Type of ownership</th>\n",
              "      <th>Industry</th>\n",
              "      <th>Sector</th>\n",
              "      <th>Median Salary</th>\n",
              "      <th>Company Size</th>\n",
              "      <th>Median Revenue</th>\n",
              "    </tr>\n",
              "  </thead>\n",
              "  <tbody>\n",
              "    <tr>\n",
              "      <th>0</th>\n",
              "      <td>Data Scientist</td>\n",
              "      <td>Data Scientist\\nLocation: Albuquerque, NM\\nEdu...</td>\n",
              "      <td>3.8</td>\n",
              "      <td>Tecolote Research\\n3.8</td>\n",
              "      <td>Albuquerque, NM</td>\n",
              "      <td>1973</td>\n",
              "      <td>Company - Private</td>\n",
              "      <td>Aerospace &amp; Defense</td>\n",
              "      <td>Aerospace &amp; Defense</td>\n",
              "      <td>72000.0</td>\n",
              "      <td>Medium-Large (501-1000)</td>\n",
              "      <td>7.500000e+07</td>\n",
              "    </tr>\n",
              "    <tr>\n",
              "      <th>1</th>\n",
              "      <td>Healthcare Data Scientist</td>\n",
              "      <td>What You Will Do:\\nI. General Summary\\nThe Hea...</td>\n",
              "      <td>3.4</td>\n",
              "      <td>University of Maryland Medical System\\n3.4</td>\n",
              "      <td>Linthicum, MD</td>\n",
              "      <td>1984</td>\n",
              "      <td>Other Organization</td>\n",
              "      <td>Health Care Services &amp; Hospitals</td>\n",
              "      <td>Health Care</td>\n",
              "      <td>87500.0</td>\n",
              "      <td>Giant (10000+)</td>\n",
              "      <td>3.500000e+09</td>\n",
              "    </tr>\n",
              "    <tr>\n",
              "      <th>2</th>\n",
              "      <td>Data Scientist</td>\n",
              "      <td>KnowBe4, Inc. is a high growth information sec...</td>\n",
              "      <td>4.8</td>\n",
              "      <td>KnowBe4\\n4.8</td>\n",
              "      <td>Clearwater, FL</td>\n",
              "      <td>2010</td>\n",
              "      <td>Company - Private</td>\n",
              "      <td>Security Services</td>\n",
              "      <td>Business Services</td>\n",
              "      <td>85000.0</td>\n",
              "      <td>Medium-Large (501-1000)</td>\n",
              "      <td>3.000000e+08</td>\n",
              "    </tr>\n",
              "    <tr>\n",
              "      <th>3</th>\n",
              "      <td>Data Scientist</td>\n",
              "      <td>*Organization and Job ID**\\nJob ID: 310709\\nDi...</td>\n",
              "      <td>3.8</td>\n",
              "      <td>PNNL\\n3.8</td>\n",
              "      <td>Richland, WA</td>\n",
              "      <td>1965</td>\n",
              "      <td>Government</td>\n",
              "      <td>Energy</td>\n",
              "      <td>Oil, Gas, Energy &amp; Utilities</td>\n",
              "      <td>76500.0</td>\n",
              "      <td>Large (1001-5000)</td>\n",
              "      <td>1.000000e+09</td>\n",
              "    </tr>\n",
              "    <tr>\n",
              "      <th>4</th>\n",
              "      <td>Data Scientist</td>\n",
              "      <td>Data Scientist\\nAffinity Solutions / Marketing...</td>\n",
              "      <td>2.9</td>\n",
              "      <td>Affinity Solutions\\n2.9</td>\n",
              "      <td>New York, NY</td>\n",
              "      <td>1998</td>\n",
              "      <td>Company - Private</td>\n",
              "      <td>Advertising &amp; Marketing</td>\n",
              "      <td>Business Services</td>\n",
              "      <td>114500.0</td>\n",
              "      <td>Small (51-200)</td>\n",
              "      <td>NaN</td>\n",
              "    </tr>\n",
              "  </tbody>\n",
              "</table>\n",
              "</div>\n",
              "    <div class=\"colab-df-buttons\">\n",
              "\n",
              "  <div class=\"colab-df-container\">\n",
              "    <button class=\"colab-df-convert\" onclick=\"convertToInteractive('df-5bc6b2f2-21c7-4d94-b60d-bb0da67707c1')\"\n",
              "            title=\"Convert this dataframe to an interactive table.\"\n",
              "            style=\"display:none;\">\n",
              "\n",
              "  <svg xmlns=\"http://www.w3.org/2000/svg\" height=\"24px\" viewBox=\"0 -960 960 960\">\n",
              "    <path d=\"M120-120v-720h720v720H120Zm60-500h600v-160H180v160Zm220 220h160v-160H400v160Zm0 220h160v-160H400v160ZM180-400h160v-160H180v160Zm440 0h160v-160H620v160ZM180-180h160v-160H180v160Zm440 0h160v-160H620v160Z\"/>\n",
              "  </svg>\n",
              "    </button>\n",
              "\n",
              "  <style>\n",
              "    .colab-df-container {\n",
              "      display:flex;\n",
              "      gap: 12px;\n",
              "    }\n",
              "\n",
              "    .colab-df-convert {\n",
              "      background-color: #E8F0FE;\n",
              "      border: none;\n",
              "      border-radius: 50%;\n",
              "      cursor: pointer;\n",
              "      display: none;\n",
              "      fill: #1967D2;\n",
              "      height: 32px;\n",
              "      padding: 0 0 0 0;\n",
              "      width: 32px;\n",
              "    }\n",
              "\n",
              "    .colab-df-convert:hover {\n",
              "      background-color: #E2EBFA;\n",
              "      box-shadow: 0px 1px 2px rgba(60, 64, 67, 0.3), 0px 1px 3px 1px rgba(60, 64, 67, 0.15);\n",
              "      fill: #174EA6;\n",
              "    }\n",
              "\n",
              "    .colab-df-buttons div {\n",
              "      margin-bottom: 4px;\n",
              "    }\n",
              "\n",
              "    [theme=dark] .colab-df-convert {\n",
              "      background-color: #3B4455;\n",
              "      fill: #D2E3FC;\n",
              "    }\n",
              "\n",
              "    [theme=dark] .colab-df-convert:hover {\n",
              "      background-color: #434B5C;\n",
              "      box-shadow: 0px 1px 3px 1px rgba(0, 0, 0, 0.15);\n",
              "      filter: drop-shadow(0px 1px 2px rgba(0, 0, 0, 0.3));\n",
              "      fill: #FFFFFF;\n",
              "    }\n",
              "  </style>\n",
              "\n",
              "    <script>\n",
              "      const buttonEl =\n",
              "        document.querySelector('#df-5bc6b2f2-21c7-4d94-b60d-bb0da67707c1 button.colab-df-convert');\n",
              "      buttonEl.style.display =\n",
              "        google.colab.kernel.accessAllowed ? 'block' : 'none';\n",
              "\n",
              "      async function convertToInteractive(key) {\n",
              "        const element = document.querySelector('#df-5bc6b2f2-21c7-4d94-b60d-bb0da67707c1');\n",
              "        const dataTable =\n",
              "          await google.colab.kernel.invokeFunction('convertToInteractive',\n",
              "                                                    [key], {});\n",
              "        if (!dataTable) return;\n",
              "\n",
              "        const docLinkHtml = 'Like what you see? Visit the ' +\n",
              "          '<a target=\"_blank\" href=https://colab.research.google.com/notebooks/data_table.ipynb>data table notebook</a>'\n",
              "          + ' to learn more about interactive tables.';\n",
              "        element.innerHTML = '';\n",
              "        dataTable['output_type'] = 'display_data';\n",
              "        await google.colab.output.renderOutput(dataTable, element);\n",
              "        const docLink = document.createElement('div');\n",
              "        docLink.innerHTML = docLinkHtml;\n",
              "        element.appendChild(docLink);\n",
              "      }\n",
              "    </script>\n",
              "  </div>\n",
              "\n",
              "\n",
              "<div id=\"df-b8bb9a7d-bdfc-499e-ad8a-477162e095df\">\n",
              "  <button class=\"colab-df-quickchart\" onclick=\"quickchart('df-b8bb9a7d-bdfc-499e-ad8a-477162e095df')\"\n",
              "            title=\"Suggest charts\"\n",
              "            style=\"display:none;\">\n",
              "\n",
              "<svg xmlns=\"http://www.w3.org/2000/svg\" height=\"24px\"viewBox=\"0 0 24 24\"\n",
              "     width=\"24px\">\n",
              "    <g>\n",
              "        <path d=\"M19 3H5c-1.1 0-2 .9-2 2v14c0 1.1.9 2 2 2h14c1.1 0 2-.9 2-2V5c0-1.1-.9-2-2-2zM9 17H7v-7h2v7zm4 0h-2V7h2v10zm4 0h-2v-4h2v4z\"/>\n",
              "    </g>\n",
              "</svg>\n",
              "  </button>\n",
              "\n",
              "<style>\n",
              "  .colab-df-quickchart {\n",
              "      --bg-color: #E8F0FE;\n",
              "      --fill-color: #1967D2;\n",
              "      --hover-bg-color: #E2EBFA;\n",
              "      --hover-fill-color: #174EA6;\n",
              "      --disabled-fill-color: #AAA;\n",
              "      --disabled-bg-color: #DDD;\n",
              "  }\n",
              "\n",
              "  [theme=dark] .colab-df-quickchart {\n",
              "      --bg-color: #3B4455;\n",
              "      --fill-color: #D2E3FC;\n",
              "      --hover-bg-color: #434B5C;\n",
              "      --hover-fill-color: #FFFFFF;\n",
              "      --disabled-bg-color: #3B4455;\n",
              "      --disabled-fill-color: #666;\n",
              "  }\n",
              "\n",
              "  .colab-df-quickchart {\n",
              "    background-color: var(--bg-color);\n",
              "    border: none;\n",
              "    border-radius: 50%;\n",
              "    cursor: pointer;\n",
              "    display: none;\n",
              "    fill: var(--fill-color);\n",
              "    height: 32px;\n",
              "    padding: 0;\n",
              "    width: 32px;\n",
              "  }\n",
              "\n",
              "  .colab-df-quickchart:hover {\n",
              "    background-color: var(--hover-bg-color);\n",
              "    box-shadow: 0 1px 2px rgba(60, 64, 67, 0.3), 0 1px 3px 1px rgba(60, 64, 67, 0.15);\n",
              "    fill: var(--button-hover-fill-color);\n",
              "  }\n",
              "\n",
              "  .colab-df-quickchart-complete:disabled,\n",
              "  .colab-df-quickchart-complete:disabled:hover {\n",
              "    background-color: var(--disabled-bg-color);\n",
              "    fill: var(--disabled-fill-color);\n",
              "    box-shadow: none;\n",
              "  }\n",
              "\n",
              "  .colab-df-spinner {\n",
              "    border: 2px solid var(--fill-color);\n",
              "    border-color: transparent;\n",
              "    border-bottom-color: var(--fill-color);\n",
              "    animation:\n",
              "      spin 1s steps(1) infinite;\n",
              "  }\n",
              "\n",
              "  @keyframes spin {\n",
              "    0% {\n",
              "      border-color: transparent;\n",
              "      border-bottom-color: var(--fill-color);\n",
              "      border-left-color: var(--fill-color);\n",
              "    }\n",
              "    20% {\n",
              "      border-color: transparent;\n",
              "      border-left-color: var(--fill-color);\n",
              "      border-top-color: var(--fill-color);\n",
              "    }\n",
              "    30% {\n",
              "      border-color: transparent;\n",
              "      border-left-color: var(--fill-color);\n",
              "      border-top-color: var(--fill-color);\n",
              "      border-right-color: var(--fill-color);\n",
              "    }\n",
              "    40% {\n",
              "      border-color: transparent;\n",
              "      border-right-color: var(--fill-color);\n",
              "      border-top-color: var(--fill-color);\n",
              "    }\n",
              "    60% {\n",
              "      border-color: transparent;\n",
              "      border-right-color: var(--fill-color);\n",
              "    }\n",
              "    80% {\n",
              "      border-color: transparent;\n",
              "      border-right-color: var(--fill-color);\n",
              "      border-bottom-color: var(--fill-color);\n",
              "    }\n",
              "    90% {\n",
              "      border-color: transparent;\n",
              "      border-bottom-color: var(--fill-color);\n",
              "    }\n",
              "  }\n",
              "</style>\n",
              "\n",
              "  <script>\n",
              "    async function quickchart(key) {\n",
              "      const quickchartButtonEl =\n",
              "        document.querySelector('#' + key + ' button');\n",
              "      quickchartButtonEl.disabled = true;  // To prevent multiple clicks.\n",
              "      quickchartButtonEl.classList.add('colab-df-spinner');\n",
              "      try {\n",
              "        const charts = await google.colab.kernel.invokeFunction(\n",
              "            'suggestCharts', [key], {});\n",
              "      } catch (error) {\n",
              "        console.error('Error during call to suggestCharts:', error);\n",
              "      }\n",
              "      quickchartButtonEl.classList.remove('colab-df-spinner');\n",
              "      quickchartButtonEl.classList.add('colab-df-quickchart-complete');\n",
              "    }\n",
              "    (() => {\n",
              "      let quickchartButtonEl =\n",
              "        document.querySelector('#df-b8bb9a7d-bdfc-499e-ad8a-477162e095df button');\n",
              "      quickchartButtonEl.style.display =\n",
              "        google.colab.kernel.accessAllowed ? 'block' : 'none';\n",
              "    })();\n",
              "  </script>\n",
              "</div>\n",
              "\n",
              "    </div>\n",
              "  </div>\n"
            ],
            "text/plain": [
              "                   Job Title  \\\n",
              "0             Data Scientist   \n",
              "1  Healthcare Data Scientist   \n",
              "2             Data Scientist   \n",
              "3             Data Scientist   \n",
              "4             Data Scientist   \n",
              "\n",
              "                                     Job Description Rating  \\\n",
              "0  Data Scientist\\nLocation: Albuquerque, NM\\nEdu...    3.8   \n",
              "1  What You Will Do:\\nI. General Summary\\nThe Hea...    3.4   \n",
              "2  KnowBe4, Inc. is a high growth information sec...    4.8   \n",
              "3  *Organization and Job ID**\\nJob ID: 310709\\nDi...    3.8   \n",
              "4  Data Scientist\\nAffinity Solutions / Marketing...    2.9   \n",
              "\n",
              "                                 Company Name         Location Founded  \\\n",
              "0                      Tecolote Research\\n3.8  Albuquerque, NM    1973   \n",
              "1  University of Maryland Medical System\\n3.4    Linthicum, MD    1984   \n",
              "2                                KnowBe4\\n4.8   Clearwater, FL    2010   \n",
              "3                                   PNNL\\n3.8     Richland, WA    1965   \n",
              "4                     Affinity Solutions\\n2.9     New York, NY    1998   \n",
              "\n",
              "    Type of ownership                          Industry  \\\n",
              "0   Company - Private               Aerospace & Defense   \n",
              "1  Other Organization  Health Care Services & Hospitals   \n",
              "2   Company - Private                 Security Services   \n",
              "3          Government                            Energy   \n",
              "4   Company - Private           Advertising & Marketing   \n",
              "\n",
              "                         Sector  Median Salary             Company Size  \\\n",
              "0           Aerospace & Defense        72000.0  Medium-Large (501-1000)   \n",
              "1                   Health Care        87500.0           Giant (10000+)   \n",
              "2             Business Services        85000.0  Medium-Large (501-1000)   \n",
              "3  Oil, Gas, Energy & Utilities        76500.0        Large (1001-5000)   \n",
              "4             Business Services       114500.0           Small (51-200)   \n",
              "\n",
              "   Median Revenue  \n",
              "0    7.500000e+07  \n",
              "1    3.500000e+09  \n",
              "2    3.000000e+08  \n",
              "3    1.000000e+09  \n",
              "4             NaN  "
            ]
          },
          "execution_count": 173,
          "metadata": {},
          "output_type": "execute_result"
        }
      ],
      "source": [
        "# Show the first few rows of the DataFrame for inspection\n",
        "df.head()"
      ]
    },
    {
      "cell_type": "code",
      "execution_count": 174,
      "metadata": {
        "colab": {
          "base_uri": "https://localhost:8080/",
          "height": 460
        },
        "id": "JIge59lp4yOb",
        "outputId": "8d23f948-5876-4ae6-939e-996f0c392822"
      },
      "outputs": [
        {
          "data": {
            "text/html": [
              "<div>\n",
              "<style scoped>\n",
              "    .dataframe tbody tr th:only-of-type {\n",
              "        vertical-align: middle;\n",
              "    }\n",
              "\n",
              "    .dataframe tbody tr th {\n",
              "        vertical-align: top;\n",
              "    }\n",
              "\n",
              "    .dataframe thead th {\n",
              "        text-align: right;\n",
              "    }\n",
              "</style>\n",
              "<table border=\"1\" class=\"dataframe\">\n",
              "  <thead>\n",
              "    <tr style=\"text-align: right;\">\n",
              "      <th></th>\n",
              "      <th>0</th>\n",
              "    </tr>\n",
              "  </thead>\n",
              "  <tbody>\n",
              "    <tr>\n",
              "      <th>Job Title</th>\n",
              "      <td>6</td>\n",
              "    </tr>\n",
              "    <tr>\n",
              "      <th>Job Description</th>\n",
              "      <td>5</td>\n",
              "    </tr>\n",
              "    <tr>\n",
              "      <th>Rating</th>\n",
              "      <td>78</td>\n",
              "    </tr>\n",
              "    <tr>\n",
              "      <th>Company Name</th>\n",
              "      <td>13</td>\n",
              "    </tr>\n",
              "    <tr>\n",
              "      <th>Location</th>\n",
              "      <td>8</td>\n",
              "    </tr>\n",
              "    <tr>\n",
              "      <th>Founded</th>\n",
              "      <td>297</td>\n",
              "    </tr>\n",
              "    <tr>\n",
              "      <th>Type of ownership</th>\n",
              "      <td>11</td>\n",
              "    </tr>\n",
              "    <tr>\n",
              "      <th>Industry</th>\n",
              "      <td>157</td>\n",
              "    </tr>\n",
              "    <tr>\n",
              "      <th>Sector</th>\n",
              "      <td>124</td>\n",
              "    </tr>\n",
              "    <tr>\n",
              "      <th>Median Salary</th>\n",
              "      <td>437</td>\n",
              "    </tr>\n",
              "    <tr>\n",
              "      <th>Company Size</th>\n",
              "      <td>60</td>\n",
              "    </tr>\n",
              "    <tr>\n",
              "      <th>Median Revenue</th>\n",
              "      <td>1147</td>\n",
              "    </tr>\n",
              "  </tbody>\n",
              "</table>\n",
              "</div><br><label><b>dtype:</b> int64</label>"
            ],
            "text/plain": [
              "Job Title               6\n",
              "Job Description         5\n",
              "Rating                 78\n",
              "Company Name           13\n",
              "Location                8\n",
              "Founded               297\n",
              "Type of ownership      11\n",
              "Industry              157\n",
              "Sector                124\n",
              "Median Salary         437\n",
              "Company Size           60\n",
              "Median Revenue       1147\n",
              "dtype: int64"
            ]
          },
          "execution_count": 174,
          "metadata": {},
          "output_type": "execute_result"
        }
      ],
      "source": [
        "# Check for missing values in the DataFrame\n",
        "df.isna().sum()"
      ]
    },
    {
      "cell_type": "code",
      "execution_count": 175,
      "metadata": {
        "colab": {
          "base_uri": "https://localhost:8080/"
        },
        "id": "x7sjsUFp2_SY",
        "outputId": "a6dc7f0c-b40a-43d7-d276-6ffd90fa66e0"
      },
      "outputs": [
        {
          "data": {
            "text/plain": [
              "Index(['Job Title', 'Job Description', 'Rating', 'Company Name', 'Location',\n",
              "       'Founded', 'Type of ownership', 'Industry', 'Sector', 'Median Salary',\n",
              "       'Company Size', 'Median Revenue'],\n",
              "      dtype='object')"
            ]
          },
          "execution_count": 175,
          "metadata": {},
          "output_type": "execute_result"
        }
      ],
      "source": [
        "# List the columns of the DataFrame\n",
        "df.columns"
      ]
    },
    {
      "cell_type": "code",
      "execution_count": 176,
      "metadata": {
        "colab": {
          "base_uri": "https://localhost:8080/"
        },
        "id": "e6Tn1p2U8A-c",
        "outputId": "9375eee7-330a-4db3-af34-e90cafad74f3"
      },
      "outputs": [
        {
          "data": {
            "text/plain": [
              "2177"
            ]
          },
          "execution_count": 176,
          "metadata": {},
          "output_type": "execute_result"
        }
      ],
      "source": [
        "# Display the number of rows in the DataFrame again\n",
        "len(df)"
      ]
    },
    {
      "cell_type": "code",
      "execution_count": 177,
      "metadata": {
        "colab": {
          "base_uri": "https://localhost:8080/"
        },
        "id": "99_Jd6aZ78sd",
        "outputId": "f5980aea-6ca8-4b61-9e03-c1b95d87729d"
      },
      "outputs": [
        {
          "data": {
            "text/plain": [
              "719"
            ]
          },
          "execution_count": 177,
          "metadata": {},
          "output_type": "execute_result"
        }
      ],
      "source": [
        "# Check for duplicate rows in the DataFrame and count them\n",
        "df.duplicated().sum()"
      ]
    },
    {
      "cell_type": "code",
      "execution_count": 178,
      "metadata": {
        "id": "cP9jl-Mv8E2e"
      },
      "outputs": [],
      "source": [
        "# Remove duplicate rows, keeping the first occurrence\n",
        "df = df.drop_duplicates(keep='first')"
      ]
    },
    {
      "cell_type": "code",
      "execution_count": 179,
      "metadata": {
        "colab": {
          "base_uri": "https://localhost:8080/"
        },
        "id": "E44TWx8hEu1b",
        "outputId": "68478d9a-f5c1-4a1f-90ca-40ba1e8a7079"
      },
      "outputs": [
        {
          "name": "stdout",
          "output_type": "stream",
          "text": [
            "['Medium-Large (501-1000)' 'Giant (10000+)' 'Large (1001-5000)'\n",
            " 'Small (51-200)' 'Medium (201-500)' 'Very Large (5001-10000)'\n",
            " 'Very Small (1-50)' 'Unknown' nan]\n"
          ]
        }
      ],
      "source": [
        "# Get unique company sizes again after dropping duplicates and print them\n",
        "unique_company_sizes = df['Company Size'].unique()\n",
        "print(unique_company_sizes)"
      ]
    },
    {
      "cell_type": "code",
      "execution_count": 180,
      "metadata": {
        "colab": {
          "base_uri": "https://localhost:8080/"
        },
        "id": "F4paRs3y8H2-",
        "outputId": "34e571ad-ecc3-4f3d-f6a4-d0851b82ee85"
      },
      "outputs": [
        {
          "data": {
            "text/plain": [
              "1458"
            ]
          },
          "execution_count": 180,
          "metadata": {},
          "output_type": "execute_result"
        }
      ],
      "source": [
        "# Display the number of rows in the DataFrame after removing duplicates\n",
        "len(df)"
      ]
    },
    {
      "cell_type": "code",
      "execution_count": 181,
      "metadata": {
        "colab": {
          "base_uri": "https://localhost:8080/"
        },
        "id": "AYhjqRyh6q9_",
        "outputId": "758e82b5-adf9-4be0-d68a-becf86ffa802"
      },
      "outputs": [
        {
          "name": "stdout",
          "output_type": "stream",
          "text": [
            "Job Title              6\n",
            "Job Description        5\n",
            "Rating                51\n",
            "Company Name          12\n",
            "Location               8\n",
            "Founded              171\n",
            "Type of ownership     10\n",
            "Industry              92\n",
            "Sector                80\n",
            "Median Salary        272\n",
            "Company Size          35\n",
            "Median Revenue       779\n",
            "dtype: int64\n"
          ]
        }
      ],
      "source": [
        "# Print the count of missing values for each column\n",
        "print(df.isnull().sum())"
      ]
    },
    {
      "cell_type": "code",
      "execution_count": 182,
      "metadata": {
        "id": "18HX0xn9617u"
      },
      "outputs": [],
      "source": [
        "# Define columns that need to be converted to numeric types\n",
        "columns_to_convert = ['Rating', 'Founded', 'Median Salary']"
      ]
    },
    {
      "cell_type": "code",
      "execution_count": null,
      "metadata": {},
      "outputs": [],
      "source": [
        "# Convert specified columns to numeric, coercing errors to NaN\n",
        "for column in columns_to_convert:\n",
        "    df[column] = pd.to_numeric(df[column], errors='coerce')"
      ]
    },
    {
      "cell_type": "code",
      "execution_count": null,
      "metadata": {},
      "outputs": [],
      "source": [
        "# List all numerical columns in the DataFrame\n",
        "numerical_columns = df.select_dtypes(include=['float64', 'int64']).columns.tolist()"
      ]
    },
    {
      "cell_type": "code",
      "execution_count": 183,
      "metadata": {
        "colab": {
          "base_uri": "https://localhost:8080/"
        },
        "id": "NKjP1uEc5h38",
        "outputId": "75f2afec-01a2-427c-b50f-843e402dfadb"
      },
      "outputs": [
        {
          "name": "stderr",
          "output_type": "stream",
          "text": [
            "/usr/local/lib/python3.10/dist-packages/sklearn/metrics/_regression.py:492: FutureWarning: 'squared' is deprecated in version 1.4 and will be removed in 1.6. To calculate the root mean squared error, use the function'root_mean_squared_error'.\n",
            "  warnings.warn(\n"
          ]
        },
        {
          "name": "stdout",
          "output_type": "stream",
          "text": [
            "Validation RMSE for Rating: 0.5330566413330052\n"
          ]
        },
        {
          "name": "stderr",
          "output_type": "stream",
          "text": [
            "/usr/local/lib/python3.10/dist-packages/sklearn/metrics/_regression.py:492: FutureWarning: 'squared' is deprecated in version 1.4 and will be removed in 1.6. To calculate the root mean squared error, use the function'root_mean_squared_error'.\n",
            "  warnings.warn(\n"
          ]
        },
        {
          "name": "stdout",
          "output_type": "stream",
          "text": [
            "Validation RMSE for Founded: 61.84431029717669\n"
          ]
        },
        {
          "name": "stderr",
          "output_type": "stream",
          "text": [
            "/usr/local/lib/python3.10/dist-packages/sklearn/metrics/_regression.py:492: FutureWarning: 'squared' is deprecated in version 1.4 and will be removed in 1.6. To calculate the root mean squared error, use the function'root_mean_squared_error'.\n",
            "  warnings.warn(\n"
          ]
        },
        {
          "name": "stdout",
          "output_type": "stream",
          "text": [
            "Validation RMSE for Median Salary: 113817593.01281676\n",
            "Validation RMSE for Median Revenue: 1806492190.3556607\n"
          ]
        },
        {
          "name": "stderr",
          "output_type": "stream",
          "text": [
            "/usr/local/lib/python3.10/dist-packages/sklearn/metrics/_regression.py:492: FutureWarning: 'squared' is deprecated in version 1.4 and will be removed in 1.6. To calculate the root mean squared error, use the function'root_mean_squared_error'.\n",
            "  warnings.warn(\n"
          ]
        }
      ],
      "source": [
        "# Function to impute missing values using a Random Forest Regressor\n",
        "def impute_missing_values(df, target_column):\n",
        "    # Create a subset for training by selecting rows where the target column is not null\n",
        "    train_df = df[df[target_column].notnull()]\n",
        "    # Create a subset for testing by selecting rows where the target column is null\n",
        "    test_df = df[df[target_column].isnull()]\n",
        "\n",
        "    # Define features by selecting all numerical columns except the target column\n",
        "    features = train_df.select_dtypes(include=['float64', 'int64']).columns.tolist()\n",
        "    features.remove(target_column)\n",
        "\n",
        "    # Check if there are valid features and sufficient training data\n",
        "    if len(features) == 0 or train_df.empty:\n",
        "        print(f'Skipping imputation for {target_column}: No valid training data or features available.')\n",
        "        return df\n",
        "\n",
        "    # Separate features and target for training\n",
        "    X_train = train_df[features]  # Features for training\n",
        "    y_train = train_df[target_column]  # Target variable for training\n",
        "\n",
        "    # Split the training data into training and validation sets (80-20 split)\n",
        "    X_train, X_val, y_train, y_val = train_test_split(X_train, y_train, test_size=0.2, random_state=42)\n",
        "\n",
        "    # Train a Random Forest Regressor on the training data\n",
        "    model = RandomForestRegressor(n_estimators=100, random_state=42)\n",
        "    model.fit(X_train, y_train)\n",
        "\n",
        "    # Validate the model using the validation set\n",
        "    y_pred = model.predict(X_val)  # Predictions on the validation set\n",
        "    rmse = mean_squared_error(y_val, y_pred, squared=False)  # Calculate the root mean squared error\n",
        "    print(f'Validation RMSE for {target_column}: {rmse}')\n",
        "\n",
        "    # Predict the missing values in the test set if it is not empty\n",
        "    if not test_df.empty:\n",
        "        X_test = test_df[features]  # Features for prediction\n",
        "        if len(X_test) > 0:  # Check if there are samples to predict\n",
        "            predicted_values = model.predict(X_test)  # Predict missing values\n",
        "            # Fill missing values in the original DataFrame with predicted values\n",
        "            df.loc[df[target_column].isnull(), target_column] = predicted_values\n",
        "        else:\n",
        "            print(f'No data available for prediction in {target_column}.')\n",
        "\n",
        "# Iterate over all numerical columns and impute missing values for each\n",
        "for column in numerical_columns:\n",
        "    impute_missing_values(df, column)"
      ]
    },
    {
      "cell_type": "code",
      "execution_count": 184,
      "metadata": {
        "colab": {
          "base_uri": "https://localhost:8080/",
          "height": 458
        },
        "id": "9lGUP3nsCKpf",
        "outputId": "e16c0d07-f2a5-425a-a3f9-caa871243342"
      },
      "outputs": [
        {
          "data": {
            "text/html": [
              "<div>\n",
              "<style scoped>\n",
              "    .dataframe tbody tr th:only-of-type {\n",
              "        vertical-align: middle;\n",
              "    }\n",
              "\n",
              "    .dataframe tbody tr th {\n",
              "        vertical-align: top;\n",
              "    }\n",
              "\n",
              "    .dataframe thead th {\n",
              "        text-align: right;\n",
              "    }\n",
              "</style>\n",
              "<table border=\"1\" class=\"dataframe\">\n",
              "  <thead>\n",
              "    <tr style=\"text-align: right;\">\n",
              "      <th></th>\n",
              "      <th>Company Size</th>\n",
              "    </tr>\n",
              "  </thead>\n",
              "  <tbody>\n",
              "    <tr>\n",
              "      <th>0</th>\n",
              "      <td>Medium-Large (501-1000)</td>\n",
              "    </tr>\n",
              "    <tr>\n",
              "      <th>1</th>\n",
              "      <td>Giant (10000+)</td>\n",
              "    </tr>\n",
              "    <tr>\n",
              "      <th>2</th>\n",
              "      <td>Medium-Large (501-1000)</td>\n",
              "    </tr>\n",
              "    <tr>\n",
              "      <th>3</th>\n",
              "      <td>Large (1001-5000)</td>\n",
              "    </tr>\n",
              "    <tr>\n",
              "      <th>4</th>\n",
              "      <td>Small (51-200)</td>\n",
              "    </tr>\n",
              "    <tr>\n",
              "      <th>...</th>\n",
              "      <td>...</td>\n",
              "    </tr>\n",
              "    <tr>\n",
              "      <th>1912</th>\n",
              "      <td>Large (1001-5000)</td>\n",
              "    </tr>\n",
              "    <tr>\n",
              "      <th>1913</th>\n",
              "      <td>NaN</td>\n",
              "    </tr>\n",
              "    <tr>\n",
              "      <th>1915</th>\n",
              "      <td>Giant (10000+)</td>\n",
              "    </tr>\n",
              "    <tr>\n",
              "      <th>1973</th>\n",
              "      <td>Medium (201-500)</td>\n",
              "    </tr>\n",
              "    <tr>\n",
              "      <th>2054</th>\n",
              "      <td>Giant (10000+)</td>\n",
              "    </tr>\n",
              "  </tbody>\n",
              "</table>\n",
              "<p>1458 rows × 1 columns</p>\n",
              "</div><br><label><b>dtype:</b> object</label>"
            ],
            "text/plain": [
              "0       Medium-Large (501-1000)\n",
              "1                Giant (10000+)\n",
              "2       Medium-Large (501-1000)\n",
              "3             Large (1001-5000)\n",
              "4                Small (51-200)\n",
              "                 ...           \n",
              "1912          Large (1001-5000)\n",
              "1913                        NaN\n",
              "1915             Giant (10000+)\n",
              "1973           Medium (201-500)\n",
              "2054             Giant (10000+)\n",
              "Name: Company Size, Length: 1458, dtype: object"
            ]
          },
          "execution_count": 184,
          "metadata": {},
          "output_type": "execute_result"
        }
      ],
      "source": [
        "# Display the 'Company Size' column for verification\n",
        "df['Company Size']"
      ]
    },
    {
      "cell_type": "code",
      "execution_count": 187,
      "metadata": {
        "colab": {
          "base_uri": "https://localhost:8080/",
          "height": 460
        },
        "id": "yMjqaZdQGEWQ",
        "outputId": "593a2232-7ed3-4033-c2bc-452ca597f443"
      },
      "outputs": [
        {
          "data": {
            "text/html": [
              "<div>\n",
              "<style scoped>\n",
              "    .dataframe tbody tr th:only-of-type {\n",
              "        vertical-align: middle;\n",
              "    }\n",
              "\n",
              "    .dataframe tbody tr th {\n",
              "        vertical-align: top;\n",
              "    }\n",
              "\n",
              "    .dataframe thead th {\n",
              "        text-align: right;\n",
              "    }\n",
              "</style>\n",
              "<table border=\"1\" class=\"dataframe\">\n",
              "  <thead>\n",
              "    <tr style=\"text-align: right;\">\n",
              "      <th></th>\n",
              "      <th>0</th>\n",
              "    </tr>\n",
              "  </thead>\n",
              "  <tbody>\n",
              "    <tr>\n",
              "      <th>Job Title</th>\n",
              "      <td>6</td>\n",
              "    </tr>\n",
              "    <tr>\n",
              "      <th>Job Description</th>\n",
              "      <td>5</td>\n",
              "    </tr>\n",
              "    <tr>\n",
              "      <th>Rating</th>\n",
              "      <td>0</td>\n",
              "    </tr>\n",
              "    <tr>\n",
              "      <th>Company Name</th>\n",
              "      <td>12</td>\n",
              "    </tr>\n",
              "    <tr>\n",
              "      <th>Location</th>\n",
              "      <td>8</td>\n",
              "    </tr>\n",
              "    <tr>\n",
              "      <th>Founded</th>\n",
              "      <td>0</td>\n",
              "    </tr>\n",
              "    <tr>\n",
              "      <th>Type of ownership</th>\n",
              "      <td>10</td>\n",
              "    </tr>\n",
              "    <tr>\n",
              "      <th>Industry</th>\n",
              "      <td>92</td>\n",
              "    </tr>\n",
              "    <tr>\n",
              "      <th>Sector</th>\n",
              "      <td>80</td>\n",
              "    </tr>\n",
              "    <tr>\n",
              "      <th>Median Salary</th>\n",
              "      <td>0</td>\n",
              "    </tr>\n",
              "    <tr>\n",
              "      <th>Company Size</th>\n",
              "      <td>35</td>\n",
              "    </tr>\n",
              "    <tr>\n",
              "      <th>Median Revenue</th>\n",
              "      <td>0</td>\n",
              "    </tr>\n",
              "  </tbody>\n",
              "</table>\n",
              "</div><br><label><b>dtype:</b> int64</label>"
            ],
            "text/plain": [
              "Job Title             6\n",
              "Job Description       5\n",
              "Rating                0\n",
              "Company Name         12\n",
              "Location              8\n",
              "Founded               0\n",
              "Type of ownership    10\n",
              "Industry             92\n",
              "Sector               80\n",
              "Median Salary         0\n",
              "Company Size         35\n",
              "Median Revenue        0\n",
              "dtype: int64"
            ]
          },
          "execution_count": 187,
          "metadata": {},
          "output_type": "execute_result"
        }
      ],
      "source": [
        "# Check for missing values again in the DataFrame\n",
        "df.isna().sum()"
      ]
    },
    {
      "cell_type": "code",
      "execution_count": 186,
      "metadata": {
        "colab": {
          "base_uri": "https://localhost:8080/",
          "height": 486
        },
        "id": "q9wuENxAF5ME",
        "outputId": "c8dd5e3c-56e1-41c5-bb17-385b482d00cc"
      },
      "outputs": [
        {
          "data": {
            "application/vnd.google.colaboratory.intrinsic+json": {
              "summary": "{\n  \"name\": \"df\",\n  \"rows\": 1458,\n  \"fields\": [\n    {\n      \"column\": \"Job Title\",\n      \"properties\": {\n        \"dtype\": \"category\",\n        \"num_unique_values\": 661,\n        \"samples\": [\n          \"Statistician/Data Scientist - TS/SCI Required\",\n          \"Scientist, Immuno-Oncology\",\n          \"ATL - Data & Analytics (DA)\"\n        ],\n        \"semantic_type\": \"\",\n        \"description\": \"\"\n      }\n    },\n    {\n      \"column\": \"Job Description\",\n      \"properties\": {\n        \"dtype\": \"string\",\n        \"num_unique_values\": 1423,\n        \"samples\": [\n          \"About the Team\\nAt Stitch Fix, our data science team combines machine learning with expert human judgment to generate innovative recommendations and insights that transform the way our clients discover what they love. We believe in a curiosity-driven data science culture where members are empowered to deliver impact through end-to-end model development. The diversity of the problems that we work on and the data-rich environment of our business make it possible, even essential, to bring the tools of multiple disciplines to bear on our hardest problems. As a large company, our growing business is looking for data scientists to join us in revolutionizing retail.\\nAbout the Role\",\n          \"Position Description:\\nThe Analytics Research and Development team within the organization is looking for a highly skilled quantitative analyst / data scientist to assist in all levels of model development, evaluation, and deployment. The analyst will have significant autonomy in conducting research and selecting modeling methodologies. You will have the opportunity to work with some of the brightest global subject matter experts that are transforming the automobile industry. Responsibilities include, but are not limited to: - Work with Optimization Solutions group, Operations and Finance teams to support optimal pricing reflecting the risk/return tradeoff. - Employ statistical/econometric procedures to produce quarterly forecasts of vehicle loan characteristics to be included in pricing model. - Develop tracking methodologies and reports to monitor model accuracy and evaluate performance. - Prepare analysis to back-test and compare competing modeling methodologies. - Responsible for maintenance and enhancements of all developed models. - Utilize structural models to simulate business performance over different competitive and economic scenarios. - Support deployment of upgraded analytical tools to dynamically price vehicle financing. - Utilize optimization software to evaluate pricing methodologies. - Use data mining techniques to find opportunities within the pricing area. - Develop/evaluate marketing strategies to take advantage of pricing opportunities. - Utilize deep learning technology to extract vehicle features. - Work with various data sources and platforms (PC, Mainframe, Unix/Linux, Teradata, Hadoop) to gather data. - Execute both descriptive and inferential ad hoc requests in a timely manner\\n\\nSkills Required:\\nDemonstrated skills in conducting complex statistical analysis in a business or academic environment - Demonstrated skills in large scale data manipulation and mining/pattern recognition - Strong oral and written communication skills. - Strong programming skills in Python, C / C++/C# , Matlab, R, Pyspark\",\n          \"Do you want to build a model that changes customer experience? Do you actually want to see your ideas, your pipelines, your architecture, your experiment really affect the business? If so, Chewy Search & Recommendations team is hiring!\\nWe use the best machine learning techniques to simplify product discovery for animal lovers looking for their pet needs on Chewy.com. Our outstanding multi-disciplinary team of data scientists, data engineers, software/front-end engineers, and product managers work together to power personalized recommendations and search for pet parents.\\nOur mission is to make Chewy a trusted partner who meets pet-parents\\u2019 needs in an intuitively personalized and friction-free way. The team has single threaded ownership of the space allowing us to decide impactful products that we can experiment with, measure with metrics, and deliver and improve value to our customers.\"\n        ],\n        \"semantic_type\": \"\",\n        \"description\": \"\"\n      }\n    },\n    {\n      \"column\": \"Rating\",\n      \"properties\": {\n        \"dtype\": \"number\",\n        \"std\": 0.5547629851728352,\n        \"min\": 1.0,\n        \"max\": 5.0,\n        \"num_unique_values\": 59,\n        \"samples\": [\n          3.8,\n          3.3,\n          3.823499999999997\n        ],\n        \"semantic_type\": \"\",\n        \"description\": \"\"\n      }\n    },\n    {\n      \"column\": \"Company Name\",\n      \"properties\": {\n        \"dtype\": \"string\",\n        \"num_unique_values\": 1038,\n        \"samples\": [\n          \"Palermo's Pizza\\n3.3\",\n          \"Planned Systems International\\n4.3\",\n          \"Parsons\\n3.9\"\n        ],\n        \"semantic_type\": \"\",\n        \"description\": \"\"\n      }\n    },\n    {\n      \"column\": \"Location\",\n      \"properties\": {\n        \"dtype\": \"category\",\n        \"num_unique_values\": 389,\n        \"samples\": [\n          \"Fort Gordon, GA\",\n          \"Saint Louis, MO\",\n          \"Portsmouth, VA\"\n        ],\n        \"semantic_type\": \"\",\n        \"description\": \"\"\n      }\n    },\n    {\n      \"column\": \"Founded\",\n      \"properties\": {\n        \"dtype\": \"number\",\n        \"std\": 52.34351411512419,\n        \"min\": 1636.0,\n        \"max\": 2022.0,\n        \"num_unique_values\": 291,\n        \"samples\": [\n          1923.816,\n          1868.0,\n          1885.0\n        ],\n        \"semantic_type\": \"\",\n        \"description\": \"\"\n      }\n    },\n    {\n      \"column\": \"Type of ownership\",\n      \"properties\": {\n        \"dtype\": \"category\",\n        \"num_unique_values\": 23,\n        \"samples\": [\n          \"Business Services\",\n          \"Contract\",\n          \"Company - Private\"\n        ],\n        \"semantic_type\": \"\",\n        \"description\": \"\"\n      }\n    },\n    {\n      \"column\": \"Industry\",\n      \"properties\": {\n        \"dtype\": \"category\",\n        \"num_unique_values\": 129,\n        \"samples\": [\n          \"Utilities\",\n          \"Brokerage Services\",\n          \"Telecommunications Services\"\n        ],\n        \"semantic_type\": \"\",\n        \"description\": \"\"\n      }\n    },\n    {\n      \"column\": \"Sector\",\n      \"properties\": {\n        \"dtype\": \"category\",\n        \"num_unique_values\": 45,\n        \"samples\": [\n          \"Restaurants & Food Service\",\n          \"Very Small (1-50)\",\n          \"Construction, Repair & Maintenance\"\n        ],\n        \"semantic_type\": \"\",\n        \"description\": \"\"\n      }\n    },\n    {\n      \"column\": \"Median Salary\",\n      \"properties\": {\n        \"dtype\": \"number\",\n        \"std\": 179416455.87912676,\n        \"min\": 540.0,\n        \"max\": 3500000000.0,\n        \"num_unique_values\": 530,\n        \"samples\": [\n          148000.0,\n          228000.0,\n          73500.0\n        ],\n        \"semantic_type\": \"\",\n        \"description\": \"\"\n      }\n    },\n    {\n      \"column\": \"Company Size\",\n      \"properties\": {\n        \"dtype\": \"category\",\n        \"num_unique_values\": 8,\n        \"samples\": [\n          \"Giant (10000+)\",\n          \"Very Large (5001-10000)\",\n          \"Medium-Large (501-1000)\"\n        ],\n        \"semantic_type\": \"\",\n        \"description\": \"\"\n      }\n    },\n    {\n      \"column\": \"Median Revenue\",\n      \"properties\": {\n        \"dtype\": \"number\",\n        \"std\": 1819605662.950473,\n        \"min\": 1000000.0,\n        \"max\": 7500000000.0,\n        \"num_unique_values\": 628,\n        \"samples\": [\n          4034010000.0,\n          438865000.0,\n          955665000.0\n        ],\n        \"semantic_type\": \"\",\n        \"description\": \"\"\n      }\n    }\n  ]\n}",
              "type": "dataframe",
              "variable_name": "df"
            },
            "text/html": [
              "\n",
              "  <div id=\"df-1bd4c7b3-9812-4875-a3e0-4e7a232a4fb0\" class=\"colab-df-container\">\n",
              "    <div>\n",
              "<style scoped>\n",
              "    .dataframe tbody tr th:only-of-type {\n",
              "        vertical-align: middle;\n",
              "    }\n",
              "\n",
              "    .dataframe tbody tr th {\n",
              "        vertical-align: top;\n",
              "    }\n",
              "\n",
              "    .dataframe thead th {\n",
              "        text-align: right;\n",
              "    }\n",
              "</style>\n",
              "<table border=\"1\" class=\"dataframe\">\n",
              "  <thead>\n",
              "    <tr style=\"text-align: right;\">\n",
              "      <th></th>\n",
              "      <th>Job Title</th>\n",
              "      <th>Job Description</th>\n",
              "      <th>Rating</th>\n",
              "      <th>Company Name</th>\n",
              "      <th>Location</th>\n",
              "      <th>Founded</th>\n",
              "      <th>Type of ownership</th>\n",
              "      <th>Industry</th>\n",
              "      <th>Sector</th>\n",
              "      <th>Median Salary</th>\n",
              "      <th>Company Size</th>\n",
              "      <th>Median Revenue</th>\n",
              "    </tr>\n",
              "  </thead>\n",
              "  <tbody>\n",
              "    <tr>\n",
              "      <th>0</th>\n",
              "      <td>Data Scientist</td>\n",
              "      <td>Data Scientist\\nLocation: Albuquerque, NM\\nEdu...</td>\n",
              "      <td>3.8</td>\n",
              "      <td>Tecolote Research\\n3.8</td>\n",
              "      <td>Albuquerque, NM</td>\n",
              "      <td>1973.0</td>\n",
              "      <td>Company - Private</td>\n",
              "      <td>Aerospace &amp; Defense</td>\n",
              "      <td>Aerospace &amp; Defense</td>\n",
              "      <td>72000.0</td>\n",
              "      <td>Medium-Large (501-1000)</td>\n",
              "      <td>7.500000e+07</td>\n",
              "    </tr>\n",
              "    <tr>\n",
              "      <th>1</th>\n",
              "      <td>Healthcare Data Scientist</td>\n",
              "      <td>What You Will Do:\\nI. General Summary\\nThe Hea...</td>\n",
              "      <td>3.4</td>\n",
              "      <td>University of Maryland Medical System\\n3.4</td>\n",
              "      <td>Linthicum, MD</td>\n",
              "      <td>1984.0</td>\n",
              "      <td>Other Organization</td>\n",
              "      <td>Health Care Services &amp; Hospitals</td>\n",
              "      <td>Health Care</td>\n",
              "      <td>87500.0</td>\n",
              "      <td>Giant (10000+)</td>\n",
              "      <td>3.500000e+09</td>\n",
              "    </tr>\n",
              "    <tr>\n",
              "      <th>2</th>\n",
              "      <td>Data Scientist</td>\n",
              "      <td>KnowBe4, Inc. is a high growth information sec...</td>\n",
              "      <td>4.8</td>\n",
              "      <td>KnowBe4\\n4.8</td>\n",
              "      <td>Clearwater, FL</td>\n",
              "      <td>2010.0</td>\n",
              "      <td>Company - Private</td>\n",
              "      <td>Security Services</td>\n",
              "      <td>Business Services</td>\n",
              "      <td>85000.0</td>\n",
              "      <td>Medium-Large (501-1000)</td>\n",
              "      <td>3.000000e+08</td>\n",
              "    </tr>\n",
              "    <tr>\n",
              "      <th>3</th>\n",
              "      <td>Data Scientist</td>\n",
              "      <td>*Organization and Job ID**\\nJob ID: 310709\\nDi...</td>\n",
              "      <td>3.8</td>\n",
              "      <td>PNNL\\n3.8</td>\n",
              "      <td>Richland, WA</td>\n",
              "      <td>1965.0</td>\n",
              "      <td>Government</td>\n",
              "      <td>Energy</td>\n",
              "      <td>Oil, Gas, Energy &amp; Utilities</td>\n",
              "      <td>76500.0</td>\n",
              "      <td>Large (1001-5000)</td>\n",
              "      <td>1.000000e+09</td>\n",
              "    </tr>\n",
              "    <tr>\n",
              "      <th>4</th>\n",
              "      <td>Data Scientist</td>\n",
              "      <td>Data Scientist\\nAffinity Solutions / Marketing...</td>\n",
              "      <td>2.9</td>\n",
              "      <td>Affinity Solutions\\n2.9</td>\n",
              "      <td>New York, NY</td>\n",
              "      <td>1998.0</td>\n",
              "      <td>Company - Private</td>\n",
              "      <td>Advertising &amp; Marketing</td>\n",
              "      <td>Business Services</td>\n",
              "      <td>114500.0</td>\n",
              "      <td>Small (51-200)</td>\n",
              "      <td>8.100250e+08</td>\n",
              "    </tr>\n",
              "  </tbody>\n",
              "</table>\n",
              "</div>\n",
              "    <div class=\"colab-df-buttons\">\n",
              "\n",
              "  <div class=\"colab-df-container\">\n",
              "    <button class=\"colab-df-convert\" onclick=\"convertToInteractive('df-1bd4c7b3-9812-4875-a3e0-4e7a232a4fb0')\"\n",
              "            title=\"Convert this dataframe to an interactive table.\"\n",
              "            style=\"display:none;\">\n",
              "\n",
              "  <svg xmlns=\"http://www.w3.org/2000/svg\" height=\"24px\" viewBox=\"0 -960 960 960\">\n",
              "    <path d=\"M120-120v-720h720v720H120Zm60-500h600v-160H180v160Zm220 220h160v-160H400v160Zm0 220h160v-160H400v160ZM180-400h160v-160H180v160Zm440 0h160v-160H620v160ZM180-180h160v-160H180v160Zm440 0h160v-160H620v160Z\"/>\n",
              "  </svg>\n",
              "    </button>\n",
              "\n",
              "  <style>\n",
              "    .colab-df-container {\n",
              "      display:flex;\n",
              "      gap: 12px;\n",
              "    }\n",
              "\n",
              "    .colab-df-convert {\n",
              "      background-color: #E8F0FE;\n",
              "      border: none;\n",
              "      border-radius: 50%;\n",
              "      cursor: pointer;\n",
              "      display: none;\n",
              "      fill: #1967D2;\n",
              "      height: 32px;\n",
              "      padding: 0 0 0 0;\n",
              "      width: 32px;\n",
              "    }\n",
              "\n",
              "    .colab-df-convert:hover {\n",
              "      background-color: #E2EBFA;\n",
              "      box-shadow: 0px 1px 2px rgba(60, 64, 67, 0.3), 0px 1px 3px 1px rgba(60, 64, 67, 0.15);\n",
              "      fill: #174EA6;\n",
              "    }\n",
              "\n",
              "    .colab-df-buttons div {\n",
              "      margin-bottom: 4px;\n",
              "    }\n",
              "\n",
              "    [theme=dark] .colab-df-convert {\n",
              "      background-color: #3B4455;\n",
              "      fill: #D2E3FC;\n",
              "    }\n",
              "\n",
              "    [theme=dark] .colab-df-convert:hover {\n",
              "      background-color: #434B5C;\n",
              "      box-shadow: 0px 1px 3px 1px rgba(0, 0, 0, 0.15);\n",
              "      filter: drop-shadow(0px 1px 2px rgba(0, 0, 0, 0.3));\n",
              "      fill: #FFFFFF;\n",
              "    }\n",
              "  </style>\n",
              "\n",
              "    <script>\n",
              "      const buttonEl =\n",
              "        document.querySelector('#df-1bd4c7b3-9812-4875-a3e0-4e7a232a4fb0 button.colab-df-convert');\n",
              "      buttonEl.style.display =\n",
              "        google.colab.kernel.accessAllowed ? 'block' : 'none';\n",
              "\n",
              "      async function convertToInteractive(key) {\n",
              "        const element = document.querySelector('#df-1bd4c7b3-9812-4875-a3e0-4e7a232a4fb0');\n",
              "        const dataTable =\n",
              "          await google.colab.kernel.invokeFunction('convertToInteractive',\n",
              "                                                    [key], {});\n",
              "        if (!dataTable) return;\n",
              "\n",
              "        const docLinkHtml = 'Like what you see? Visit the ' +\n",
              "          '<a target=\"_blank\" href=https://colab.research.google.com/notebooks/data_table.ipynb>data table notebook</a>'\n",
              "          + ' to learn more about interactive tables.';\n",
              "        element.innerHTML = '';\n",
              "        dataTable['output_type'] = 'display_data';\n",
              "        await google.colab.output.renderOutput(dataTable, element);\n",
              "        const docLink = document.createElement('div');\n",
              "        docLink.innerHTML = docLinkHtml;\n",
              "        element.appendChild(docLink);\n",
              "      }\n",
              "    </script>\n",
              "  </div>\n",
              "\n",
              "\n",
              "<div id=\"df-d9fd423b-6a2a-42c8-ae5e-e9557e5546db\">\n",
              "  <button class=\"colab-df-quickchart\" onclick=\"quickchart('df-d9fd423b-6a2a-42c8-ae5e-e9557e5546db')\"\n",
              "            title=\"Suggest charts\"\n",
              "            style=\"display:none;\">\n",
              "\n",
              "<svg xmlns=\"http://www.w3.org/2000/svg\" height=\"24px\"viewBox=\"0 0 24 24\"\n",
              "     width=\"24px\">\n",
              "    <g>\n",
              "        <path d=\"M19 3H5c-1.1 0-2 .9-2 2v14c0 1.1.9 2 2 2h14c1.1 0 2-.9 2-2V5c0-1.1-.9-2-2-2zM9 17H7v-7h2v7zm4 0h-2V7h2v10zm4 0h-2v-4h2v4z\"/>\n",
              "    </g>\n",
              "</svg>\n",
              "  </button>\n",
              "\n",
              "<style>\n",
              "  .colab-df-quickchart {\n",
              "      --bg-color: #E8F0FE;\n",
              "      --fill-color: #1967D2;\n",
              "      --hover-bg-color: #E2EBFA;\n",
              "      --hover-fill-color: #174EA6;\n",
              "      --disabled-fill-color: #AAA;\n",
              "      --disabled-bg-color: #DDD;\n",
              "  }\n",
              "\n",
              "  [theme=dark] .colab-df-quickchart {\n",
              "      --bg-color: #3B4455;\n",
              "      --fill-color: #D2E3FC;\n",
              "      --hover-bg-color: #434B5C;\n",
              "      --hover-fill-color: #FFFFFF;\n",
              "      --disabled-bg-color: #3B4455;\n",
              "      --disabled-fill-color: #666;\n",
              "  }\n",
              "\n",
              "  .colab-df-quickchart {\n",
              "    background-color: var(--bg-color);\n",
              "    border: none;\n",
              "    border-radius: 50%;\n",
              "    cursor: pointer;\n",
              "    display: none;\n",
              "    fill: var(--fill-color);\n",
              "    height: 32px;\n",
              "    padding: 0;\n",
              "    width: 32px;\n",
              "  }\n",
              "\n",
              "  .colab-df-quickchart:hover {\n",
              "    background-color: var(--hover-bg-color);\n",
              "    box-shadow: 0 1px 2px rgba(60, 64, 67, 0.3), 0 1px 3px 1px rgba(60, 64, 67, 0.15);\n",
              "    fill: var(--button-hover-fill-color);\n",
              "  }\n",
              "\n",
              "  .colab-df-quickchart-complete:disabled,\n",
              "  .colab-df-quickchart-complete:disabled:hover {\n",
              "    background-color: var(--disabled-bg-color);\n",
              "    fill: var(--disabled-fill-color);\n",
              "    box-shadow: none;\n",
              "  }\n",
              "\n",
              "  .colab-df-spinner {\n",
              "    border: 2px solid var(--fill-color);\n",
              "    border-color: transparent;\n",
              "    border-bottom-color: var(--fill-color);\n",
              "    animation:\n",
              "      spin 1s steps(1) infinite;\n",
              "  }\n",
              "\n",
              "  @keyframes spin {\n",
              "    0% {\n",
              "      border-color: transparent;\n",
              "      border-bottom-color: var(--fill-color);\n",
              "      border-left-color: var(--fill-color);\n",
              "    }\n",
              "    20% {\n",
              "      border-color: transparent;\n",
              "      border-left-color: var(--fill-color);\n",
              "      border-top-color: var(--fill-color);\n",
              "    }\n",
              "    30% {\n",
              "      border-color: transparent;\n",
              "      border-left-color: var(--fill-color);\n",
              "      border-top-color: var(--fill-color);\n",
              "      border-right-color: var(--fill-color);\n",
              "    }\n",
              "    40% {\n",
              "      border-color: transparent;\n",
              "      border-right-color: var(--fill-color);\n",
              "      border-top-color: var(--fill-color);\n",
              "    }\n",
              "    60% {\n",
              "      border-color: transparent;\n",
              "      border-right-color: var(--fill-color);\n",
              "    }\n",
              "    80% {\n",
              "      border-color: transparent;\n",
              "      border-right-color: var(--fill-color);\n",
              "      border-bottom-color: var(--fill-color);\n",
              "    }\n",
              "    90% {\n",
              "      border-color: transparent;\n",
              "      border-bottom-color: var(--fill-color);\n",
              "    }\n",
              "  }\n",
              "</style>\n",
              "\n",
              "  <script>\n",
              "    async function quickchart(key) {\n",
              "      const quickchartButtonEl =\n",
              "        document.querySelector('#' + key + ' button');\n",
              "      quickchartButtonEl.disabled = true;  // To prevent multiple clicks.\n",
              "      quickchartButtonEl.classList.add('colab-df-spinner');\n",
              "      try {\n",
              "        const charts = await google.colab.kernel.invokeFunction(\n",
              "            'suggestCharts', [key], {});\n",
              "      } catch (error) {\n",
              "        console.error('Error during call to suggestCharts:', error);\n",
              "      }\n",
              "      quickchartButtonEl.classList.remove('colab-df-spinner');\n",
              "      quickchartButtonEl.classList.add('colab-df-quickchart-complete');\n",
              "    }\n",
              "    (() => {\n",
              "      let quickchartButtonEl =\n",
              "        document.querySelector('#df-d9fd423b-6a2a-42c8-ae5e-e9557e5546db button');\n",
              "      quickchartButtonEl.style.display =\n",
              "        google.colab.kernel.accessAllowed ? 'block' : 'none';\n",
              "    })();\n",
              "  </script>\n",
              "</div>\n",
              "\n",
              "    </div>\n",
              "  </div>\n"
            ],
            "text/plain": [
              "                   Job Title  \\\n",
              "0             Data Scientist   \n",
              "1  Healthcare Data Scientist   \n",
              "2             Data Scientist   \n",
              "3             Data Scientist   \n",
              "4             Data Scientist   \n",
              "\n",
              "                                     Job Description  Rating  \\\n",
              "0  Data Scientist\\nLocation: Albuquerque, NM\\nEdu...     3.8   \n",
              "1  What You Will Do:\\nI. General Summary\\nThe Hea...     3.4   \n",
              "2  KnowBe4, Inc. is a high growth information sec...     4.8   \n",
              "3  *Organization and Job ID**\\nJob ID: 310709\\nDi...     3.8   \n",
              "4  Data Scientist\\nAffinity Solutions / Marketing...     2.9   \n",
              "\n",
              "                                 Company Name         Location  Founded  \\\n",
              "0                      Tecolote Research\\n3.8  Albuquerque, NM   1973.0   \n",
              "1  University of Maryland Medical System\\n3.4    Linthicum, MD   1984.0   \n",
              "2                                KnowBe4\\n4.8   Clearwater, FL   2010.0   \n",
              "3                                   PNNL\\n3.8     Richland, WA   1965.0   \n",
              "4                     Affinity Solutions\\n2.9     New York, NY   1998.0   \n",
              "\n",
              "    Type of ownership                          Industry  \\\n",
              "0   Company - Private               Aerospace & Defense   \n",
              "1  Other Organization  Health Care Services & Hospitals   \n",
              "2   Company - Private                 Security Services   \n",
              "3          Government                            Energy   \n",
              "4   Company - Private           Advertising & Marketing   \n",
              "\n",
              "                         Sector  Median Salary             Company Size  \\\n",
              "0           Aerospace & Defense        72000.0  Medium-Large (501-1000)   \n",
              "1                   Health Care        87500.0           Giant (10000+)   \n",
              "2             Business Services        85000.0  Medium-Large (501-1000)   \n",
              "3  Oil, Gas, Energy & Utilities        76500.0        Large (1001-5000)   \n",
              "4             Business Services       114500.0           Small (51-200)   \n",
              "\n",
              "   Median Revenue  \n",
              "0    7.500000e+07  \n",
              "1    3.500000e+09  \n",
              "2    3.000000e+08  \n",
              "3    1.000000e+09  \n",
              "4    8.100250e+08  "
            ]
          },
          "execution_count": 186,
          "metadata": {},
          "output_type": "execute_result"
        }
      ],
      "source": [
        "# Display the first few rows of the DataFrame after imputation\n",
        "df.head()"
      ]
    },
    {
      "cell_type": "code",
      "execution_count": 188,
      "metadata": {
        "colab": {
          "base_uri": "https://localhost:8080/"
        },
        "id": "tFOVAqCl5_lS",
        "outputId": "0e4131ed-601f-493a-e994-d7c1bcec6a77"
      },
      "outputs": [
        {
          "name": "stderr",
          "output_type": "stream",
          "text": [
            "<ipython-input-188-e3463f841f3c>:2: FutureWarning: A value is trying to be set on a copy of a DataFrame or Series through chained assignment using an inplace method.\n",
            "The behavior will change in pandas 3.0. This inplace method will never work because the intermediate object on which we are setting values always behaves as a copy.\n",
            "\n",
            "For example, when doing 'df[col].method(value, inplace=True)', try using 'df.method({col: value}, inplace=True)' or df[col] = df[col].method(value) instead, to perform the operation inplace on the original object.\n",
            "\n",
            "\n",
            "  df['Job Title'].fillna('Unknown', inplace=True)\n",
            "<ipython-input-188-e3463f841f3c>:3: FutureWarning: A value is trying to be set on a copy of a DataFrame or Series through chained assignment using an inplace method.\n",
            "The behavior will change in pandas 3.0. This inplace method will never work because the intermediate object on which we are setting values always behaves as a copy.\n",
            "\n",
            "For example, when doing 'df[col].method(value, inplace=True)', try using 'df.method({col: value}, inplace=True)' or df[col] = df[col].method(value) instead, to perform the operation inplace on the original object.\n",
            "\n",
            "\n",
            "  df['Job Description'].fillna('Unknown', inplace=True)\n",
            "<ipython-input-188-e3463f841f3c>:4: FutureWarning: A value is trying to be set on a copy of a DataFrame or Series through chained assignment using an inplace method.\n",
            "The behavior will change in pandas 3.0. This inplace method will never work because the intermediate object on which we are setting values always behaves as a copy.\n",
            "\n",
            "For example, when doing 'df[col].method(value, inplace=True)', try using 'df.method({col: value}, inplace=True)' or df[col] = df[col].method(value) instead, to perform the operation inplace on the original object.\n",
            "\n",
            "\n",
            "  df['Company Name'].fillna('Unknown', inplace=True)\n",
            "<ipython-input-188-e3463f841f3c>:5: FutureWarning: A value is trying to be set on a copy of a DataFrame or Series through chained assignment using an inplace method.\n",
            "The behavior will change in pandas 3.0. This inplace method will never work because the intermediate object on which we are setting values always behaves as a copy.\n",
            "\n",
            "For example, when doing 'df[col].method(value, inplace=True)', try using 'df.method({col: value}, inplace=True)' or df[col] = df[col].method(value) instead, to perform the operation inplace on the original object.\n",
            "\n",
            "\n",
            "  df['Location'].fillna('Unknown', inplace=True)\n",
            "<ipython-input-188-e3463f841f3c>:6: FutureWarning: A value is trying to be set on a copy of a DataFrame or Series through chained assignment using an inplace method.\n",
            "The behavior will change in pandas 3.0. This inplace method will never work because the intermediate object on which we are setting values always behaves as a copy.\n",
            "\n",
            "For example, when doing 'df[col].method(value, inplace=True)', try using 'df.method({col: value}, inplace=True)' or df[col] = df[col].method(value) instead, to perform the operation inplace on the original object.\n",
            "\n",
            "\n",
            "  df['Type of ownership'].fillna('Unknown', inplace=True)\n",
            "<ipython-input-188-e3463f841f3c>:7: FutureWarning: A value is trying to be set on a copy of a DataFrame or Series through chained assignment using an inplace method.\n",
            "The behavior will change in pandas 3.0. This inplace method will never work because the intermediate object on which we are setting values always behaves as a copy.\n",
            "\n",
            "For example, when doing 'df[col].method(value, inplace=True)', try using 'df.method({col: value}, inplace=True)' or df[col] = df[col].method(value) instead, to perform the operation inplace on the original object.\n",
            "\n",
            "\n",
            "  df['Industry'].fillna('Unknown', inplace=True)\n",
            "<ipython-input-188-e3463f841f3c>:8: FutureWarning: A value is trying to be set on a copy of a DataFrame or Series through chained assignment using an inplace method.\n",
            "The behavior will change in pandas 3.0. This inplace method will never work because the intermediate object on which we are setting values always behaves as a copy.\n",
            "\n",
            "For example, when doing 'df[col].method(value, inplace=True)', try using 'df.method({col: value}, inplace=True)' or df[col] = df[col].method(value) instead, to perform the operation inplace on the original object.\n",
            "\n",
            "\n",
            "  df['Sector'].fillna('Unknown', inplace=True)\n"
          ]
        }
      ],
      "source": [
        "# Example to fill missing values for specific categorical columns with 'Unknown'\n",
        "df['Job Title'].fillna('Unknown', inplace=True)\n",
        "df['Job Description'].fillna('Unknown', inplace=True)\n",
        "df['Company Name'].fillna('Unknown', inplace=True)\n",
        "df['Location'].fillna('Unknown', inplace=True)\n",
        "df['Type of ownership'].fillna('Unknown', inplace=True)\n",
        "df['Industry'].fillna('Unknown', inplace=True)\n",
        "df['Sector'].fillna('Unknown', inplace=True)\n",
        "df['Company Size'].fillna('Unknown', inplace=True)"
      ]
    },
    {
      "cell_type": "code",
      "execution_count": 189,
      "metadata": {
        "colab": {
          "base_uri": "https://localhost:8080/"
        },
        "id": "RaVRqVpaGhQA",
        "outputId": "52c704fd-2fe3-400d-d1ea-9cc8f40e01b3"
      },
      "outputs": [
        {
          "data": {
            "text/plain": [
              "Index(['Job Title', 'Job Description', 'Rating', 'Company Name', 'Location',\n",
              "       'Founded', 'Type of ownership', 'Industry', 'Sector', 'Median Salary',\n",
              "       'Company Size', 'Median Revenue'],\n",
              "      dtype='object')"
            ]
          },
          "execution_count": 189,
          "metadata": {},
          "output_type": "execute_result"
        }
      ],
      "source": [
        "# List the columns of the DataFrame for verification\n",
        "df.columns"
      ]
    },
    {
      "cell_type": "code",
      "execution_count": 193,
      "metadata": {
        "colab": {
          "base_uri": "https://localhost:8080/"
        },
        "id": "M4unM2GtJB2d",
        "outputId": "eda11758-ce6a-43d7-8b75-c694efb1d1d5"
      },
      "outputs": [
        {
          "name": "stderr",
          "output_type": "stream",
          "text": [
            "[nltk_data] Downloading package stopwords to /root/nltk_data...\n",
            "[nltk_data]   Unzipping corpora/stopwords.zip.\n",
            "[nltk_data] Downloading package punkt to /root/nltk_data...\n",
            "[nltk_data]   Unzipping tokenizers/punkt.zip.\n",
            "[nltk_data] Downloading package wordnet to /root/nltk_data...\n"
          ]
        },
        {
          "data": {
            "text/plain": [
              "True"
            ]
          },
          "execution_count": 193,
          "metadata": {},
          "output_type": "execute_result"
        }
      ],
      "source": [
        "# Import additional libraries for text processing\n",
        "import pandas as pd\n",
        "from sklearn.feature_extraction.text import TfidfVectorizer  # Import TF-IDF vectorizer for text feature extraction\n",
        "from sklearn.feature_extraction.text import ENGLISH_STOP_WORDS  # Import English stop words\n",
        "from nltk.corpus import stopwords  # Import stopwords from NLTK\n",
        "from nltk.stem import WordNetLemmatizer  # Import lemmatizer for text normalization\n",
        "from nltk.tokenize import word_tokenize  # Import tokenizer to split text into words\n",
        "import nltk  # Import NLTK library\n",
        "\n",
        "# Download the required NLTK resources\n",
        "nltk.download('stopwords')  # Download stopwords\n",
        "nltk.download('punkt')  # Download tokenizer\n",
        "nltk.download('wordnet')  # Download WordNet for lemmatization"
      ]
    },
    {
      "cell_type": "code",
      "execution_count": 194,
      "metadata": {
        "id": "VUbxAmxRI5a8"
      },
      "outputs": [],
      "source": [
        "# Function to preprocess text data\n",
        "def preprocess_text(text):\n",
        "    # Tokenize the text and convert it to lowercase\n",
        "    words = word_tokenize(text.lower())\n",
        "\n",
        "    # Remove stopwords and non-alphabetic words\n",
        "    stop_words = set(stopwords.words('english')).union(ENGLISH_STOP_WORDS)  # Combine NLTK and sklearn stop words\n",
        "    additional_stopwords = ['position', 'responsible', 'required', 'experience', 'applicant', 'responsibility']  # Add custom stop words\n",
        "    stop_words.update(additional_stopwords)\n",
        "\n",
        "    # Filter out stopwords and non-alphabetic words\n",
        "    words = [word for word in words if word.isalpha() and word not in stop_words]\n",
        "\n",
        "    # Lemmatization: Normalize words to their base form\n",
        "    lemmatizer = WordNetLemmatizer()\n",
        "    words = [lemmatizer.lemmatize(word) for word in words]\n",
        "\n",
        "    return ' '.join(words)  # Return the processed text as a single string\n",
        "\n",
        "# Preprocess all job descriptions in the DataFrame\n",
        "df['processed_description'] = df['Job Description'].apply(preprocess_text)\n",
        "\n",
        "# Function to extract top keywords for each job description independently\n",
        "def extract_keywords(description):\n",
        "    # Use TF-IDF to vectorize the job description\n",
        "    vectorizer = TfidfVectorizer(max_features=20, ngram_range=(1, 3), min_df=1)  # Increased n-gram range for better keyword extraction\n",
        "    tfidf_matrix = vectorizer.fit_transform([description])  # Vectorize the single job description\n",
        "\n",
        "    # Extract top keywords based on their TF-IDF score\n",
        "    feature_names = vectorizer.get_feature_names_out()  # Get feature names from the vectorizer\n",
        "    tfidf_scores = tfidf_matrix.toarray()[0]  # Convert sparse matrix to dense array\n",
        "\n",
        "    # Sort the keywords based on TF-IDF score (highest first)\n",
        "    top_keywords_indices = tfidf_scores.argsort()[-10:][::-1]  # Get indices of the top 10 keywords\n",
        "    top_keywords = [feature_names[i] for i in top_keywords_indices]  # Extract top keywords using indices\n",
        "\n",
        "    return ', '.join(top_keywords)  # Return the top keywords as a comma-separated string\n",
        "\n",
        "# Extract keywords for each job description and store them in a new column\n",
        "df['Keywords'] = df['processed_description'].apply(extract_keywords)"
      ]
    },
    {
      "cell_type": "code",
      "execution_count": 197,
      "metadata": {
        "id": "BHcF4CI_IuCk"
      },
      "outputs": [],
      "source": [
        "# Combine various features into a single DataFrame for further analysis\n",
        "features = pd.concat([df[['Rating', 'Founded', 'Median Salary', 'Median Revenue']], df_encoded, df['Keywords']], axis=1)"
      ]
    },
    {
      "cell_type": "code",
      "execution_count": 198,
      "metadata": {
        "id": "30ISVy17Q6rB"
      },
      "outputs": [],
      "source": [
        "# Vectorize the 'Keywords' column to create a TF-IDF representation of keywords\n",
        "tfidf_vectorizer = TfidfVectorizer(max_features=20, ngram_range=(1, 3), min_df=1)  # Define the vectorizer\n",
        "keywords_tfidf = tfidf_vectorizer.fit_transform(df['Keywords']).toarray()  # Transform keywords into a TF-IDF array"
      ]
    },
    {
      "cell_type": "code",
      "execution_count": 199,
      "metadata": {
        "id": "tXsGUZDyQ9FO"
      },
      "outputs": [],
      "source": [
        "# Concatenate the TF-IDF features with the existing features DataFrame\n",
        "features = pd.concat([features.reset_index(drop=True), pd.DataFrame(keywords_tfidf)], axis=1)"
      ]
    },
    {
      "cell_type": "code",
      "execution_count": null,
      "metadata": {
        "id": "hQQZQxdJRB-V"
      },
      "outputs": [],
      "source": [
        "# Import the NearestNeighbors class from the sklearn.neighbors module\n",
        "from sklearn.neighbors import NearestNeighbors\n",
        "\n",
        "# Initialize the K-Nearest Neighbors model\n",
        "# - n_neighbors: The number of nearest neighbors to consider (set to 5 here).\n",
        "# - n_jobs: The number of jobs to run in parallel. '-1' uses all processors.\n",
        "knn_model = NearestNeighbors(n_neighbors=5, n_jobs=-1)  # Adjust the number of neighbors as needed\n",
        "\n",
        "# Fit the KNN model to the features dataset\n",
        "# This step involves training the model using the provided features, which will allow it to find the nearest neighbors based on the distances between points in the feature space.\n",
        "knn_model.fit(features)"
      ]
    }
  ],
  "metadata": {
    "colab": {
      "provenance": []
    },
    "kernelspec": {
      "display_name": "Python 3",
      "name": "python3"
    },
    "language_info": {
      "name": "python"
    }
  },
  "nbformat": 4,
  "nbformat_minor": 0
}
